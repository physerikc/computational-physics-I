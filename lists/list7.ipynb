{
 "cells": [
  {
   "cell_type": "code",
   "execution_count": 1,
   "id": "9c76cd38-e9ee-4bf7-bc80-36da9cdafeb8",
   "metadata": {},
   "outputs": [],
   "source": [
    "from numpy import array, empty, linalg\n",
    "import numpy as np\n",
    "from numpy import copy\n",
    "import pivoting as pv"
   ]
  },
  {
   "cell_type": "markdown",
   "id": "3220a656-01f8-44b9-8f5a-a9e9ea901157",
   "metadata": {},
   "source": [
    "### PROBLEM 1 - Resistors circuit"
   ]
  },
  {
   "cell_type": "markdown",
   "id": "33fe5693-90cd-4c1c-8c54-d60e18d4c0f2",
   "metadata": {},
   "source": [
    "Alternative **a)** using the Kirchhoff's law to obtain others equations and knowing that $(V_{0} = 0)$:"
   ]
  },
  {
   "cell_type": "markdown",
   "id": "48c5c70c-7a06-458c-8b24-45aa8a8b690a",
   "metadata": {},
   "source": [
    "$$ \\frac{V_{2} - V_{0}}{R} + \\frac{V_{2} - V_{4}}{R} + \\frac{V_{2} - V_{1}}{R} = 0$$"
   ]
  },
  {
   "cell_type": "markdown",
   "id": "8d792e4d-3de9-4666-81e1-7e3329a1160d",
   "metadata": {},
   "source": [
    "$$ -V_{1} + 3V_{2} +0V_{3} - V_{4} = 0 \\tag {1}$$"
   ]
  },
  {
   "cell_type": "markdown",
   "id": "ed7622e5-816d-416f-8288-a3ad5bac5137",
   "metadata": {},
   "source": [
    "$$ \\frac{V_{3} - V_{4}}{R} + \\frac{V_{3} - V_{1}}{R} + \\frac{V_{3} - V_{+}}{R} = 0$$"
   ]
  },
  {
   "cell_type": "markdown",
   "id": "811822e1-ae76-49ab-b96a-613699821390",
   "metadata": {},
   "source": [
    "$$ -V_{1} + 0V_{2} +3V_{3} - V_{4} = V_{+} \\tag {2}$$"
   ]
  },
  {
   "cell_type": "markdown",
   "id": "2e4fe1b8-ad40-40b0-a974-2f7cc37004a9",
   "metadata": {},
   "source": [
    "$$ \\frac{V_{4} - V_{0}}{R} + \\frac{V_{4} - V_{1}}{R} + \\frac{V_{4} - V_{3}}{R} + \\frac{V_{4} - V_{2}}{R}= 0$$"
   ]
  },
  {
   "cell_type": "markdown",
   "id": "2f596e19-51e5-49c7-a31b-0d2f5b9d4c11",
   "metadata": {},
   "source": [
    "$$ -V_{1} -V_{2} -V_{3} + 4V_{4} = 0 \\tag{3}$$"
   ]
  },
  {
   "cell_type": "markdown",
   "id": "fb668dc5-d98e-4d37-bbc2-828c076d21df",
   "metadata": {},
   "source": [
    "The fourth equation $\\ 4V_{1} -V_{2} -V_{3} -V_{4} = V_{+}\\ $  is in pdf of the list "
   ]
  },
  {
   "cell_type": "markdown",
   "id": "157cd797-87b0-49ac-9983-127cf6599040",
   "metadata": {},
   "source": [
    "Putting the indices of equations in the matriz A and knowing that $(V_{+} = 0)$:"
   ]
  },
  {
   "cell_type": "code",
   "execution_count": 2,
   "id": "ae64d04c-207b-44b6-86f9-2562a128b30b",
   "metadata": {},
   "outputs": [],
   "source": [
    "A_res = array([[4, -1, -1, -1], \n",
    "           [-1, 3, 0, -1], \n",
    "           [-1, 0, 3, -1], \n",
    "           [-1, -1, -1, 4]], float)\n",
    "\n",
    "v_res = array([5, 0, 5, 0], float)\n",
    "N = len(v_res)"
   ]
  },
  {
   "cell_type": "markdown",
   "id": "24f3f1e0-8dc0-468a-a9ea-b1fd49dbd7c2",
   "metadata": {},
   "source": [
    "Alternative **b)** Solving the matriz with Gauss' elimination:"
   ]
  },
  {
   "cell_type": "code",
   "execution_count": 3,
   "id": "cb79803f-a2ac-4941-a6f0-3a5413672b88",
   "metadata": {},
   "outputs": [
    {
     "name": "stdout",
     "output_type": "stream",
     "text": [
      "Solution: [3.         1.66666667 3.33333333 2.        ]\n"
     ]
    }
   ],
   "source": [
    "for m in range(N):\n",
    "    div = A_res[m, m]\n",
    "    A_res[m, :] /= div\n",
    "    v_res[m] /= div\n",
    "\n",
    "    for i in range(m+1, N):\n",
    "        mult = A_res[i, m]\n",
    "        A_res[i, :] -= mult*A_res[m, :]\n",
    "        v_res[i] -= mult*v_res[m]\n",
    "\n",
    "vs = empty(N, float)\n",
    "for m in range(N-1, -1, -1):\n",
    "    vs[m] = v_res[m]\n",
    "    \n",
    "    for i in  range(m+1, N):\n",
    "        vs[m] -= A_res[m, i]*vs[i] \n",
    "\n",
    "print(f'Solution: {vs}')"
   ]
  },
  {
   "cell_type": "markdown",
   "id": "33def724-43b6-4542-a7c7-388e5b4cd789",
   "metadata": {},
   "source": [
    "Alternative **c)** Using the linalg.solve function by numpy library, we have:"
   ]
  },
  {
   "cell_type": "code",
   "execution_count": 4,
   "id": "38a0d9b8-80b7-4fb5-8b7f-9687eb0e0140",
   "metadata": {},
   "outputs": [
    {
     "name": "stdout",
     "output_type": "stream",
     "text": [
      "Solution: [3.         1.66666667 3.33333333 2.        ]\n"
     ]
    }
   ],
   "source": [
    "Gausslinalg = np.linalg.solve(A_res, v_res)\n",
    "print(f'Solution: {Gausslinalg}')"
   ]
  },
  {
   "cell_type": "markdown",
   "id": "410295b0-c1bc-4ddc-b747-4f016872f7df",
   "metadata": {},
   "source": [
    "### PROBLEM 2 - Include the pivotiozation method"
   ]
  },
  {
   "cell_type": "markdown",
   "id": "0eebdb12-2714-4883-ad3c-3275bcb2b7a9",
   "metadata": {},
   "source": [
    "First we create the matriz **A** and the vector **v**:"
   ]
  },
  {
   "cell_type": "code",
   "execution_count": 5,
   "id": "dd7a66b7-2a02-41f4-94c7-3458251146ed",
   "metadata": {},
   "outputs": [],
   "source": [
    "A_non_pivo = np.array([[2, 1, 4, 1],\n",
    "             [3, 4, -1, -1],\n",
    "             [1, -4, 1, 5],\n",
    "             [2, -2, 1, 3]], float)\n",
    "\n",
    "A_pivo = np.array([[0, 1, 4, 1],\n",
    "             [3, 4, -1, -1],\n",
    "             [1, -4, 1, 5],\n",
    "             [2, -2, 1, 3]], float)\n",
    "\n",
    "v_pivo = array([-4, 3, 9, 7], float)\n",
    "N = len(v_pivo)"
   ]
  },
  {
   "cell_type": "markdown",
   "id": "c39e284b-c602-4e4b-b27e-61bfce455cfa",
   "metadata": {},
   "source": [
    "Second we need indentify the **index of line** below of pivo that **your value is non-zero**, to all m columns:\n",
    "\n",
    "After that, we exchange the **line that have pivo equal zero** with first line below this one **that has the pivo non-zero**\n",
    "\n",
    "We make the same with respective lines from vector v\n",
    "\n",
    "Now we can make the Gauss' elimination for that column **m**, then the same thing for the others"
   ]
  },
  {
   "cell_type": "markdown",
   "id": "fc7e523a-d658-478e-b0ac-bb61e4b2dc3c",
   "metadata": {},
   "source": [
    "For this, i'll create a function to use after if i want"
   ]
  },
  {
   "cell_type": "code",
   "execution_count": 6,
   "id": "7933fead-4e9d-4c59-87cb-dd500438b49f",
   "metadata": {},
   "outputs": [],
   "source": [
    "def gauss_elimination_pivoting(A, v, N):\n",
    "    \n",
    "    for m in range(N):\n",
    "        \n",
    "        # Second we need indentify the **index of line** below of pivo that **your value is non-zero**, to all m columns:\n",
    "        index_pivo_non_zero = m\n",
    "        while A[index_pivo_non_zero, m] == 0:\n",
    "            index_pivo_non_zero += 1\n",
    "    \n",
    "        # After that, we exchange the **line that have pivo equal zero** with first line below this one **that has the pivo non-zero**\n",
    "        for value in range(N):\n",
    "            temp_A = A[m, value]\n",
    "            A[m, value] = A[index_pivo_non_zero, value]\n",
    "            A[index_pivo_non_zero, value] = temp_A\n",
    "    \n",
    "        # We make the same with respective lines from vector v\n",
    "        temp_v = v[m]\n",
    "        v[m] = v[index_pivo_non_zero]\n",
    "        v[index_pivo_non_zero] = temp_v\n",
    "    \n",
    "        # Now we can make the Gauss' elimination for that column **m**, then the same thing for the others\n",
    "        div = A[m, m]\n",
    "        A[m, :] /= div\n",
    "        v[m] /= div\n",
    "    \n",
    "        for i in range(m+1, N):\n",
    "            mult = A[i, m]\n",
    "            A[i, :] -= mult*A[m, :]\n",
    "            v[i] -= mult*v[m]\n",
    "        \n",
    "    vs = empty(N, float)\n",
    "    for m in range(N-1, -1, -1):\n",
    "        vs[m] = v[m]\n",
    "        \n",
    "        for i in  range(m+1, N):\n",
    "            vs[m] -= A[m, i]*vs[i]\n",
    "    return vs"
   ]
  },
  {
   "cell_type": "code",
   "execution_count": 7,
   "id": "94fb8399-b95f-41b7-ba69-d82e68de3898",
   "metadata": {},
   "outputs": [
    {
     "name": "stdout",
     "output_type": "stream",
     "text": [
      "without pivotization: [ 2. -1. -2.  1.]\n"
     ]
    }
   ],
   "source": [
    "non_pivoting = pv.gauss_elimination_pivoting(A_non_pivo, v_pivo, N)\n",
    "print(f'without pivotization: {non_pivoting}')"
   ]
  },
  {
   "cell_type": "code",
   "execution_count": 8,
   "id": "f8033536-73c7-4b98-9138-5da15a898f34",
   "metadata": {},
   "outputs": [
    {
     "name": "stdout",
     "output_type": "stream",
     "text": [
      "with pivotization: [ 1.78095238 -0.77142857  0.03809524 -1.38095238]\n"
     ]
    }
   ],
   "source": [
    "with_pivoting = pv.gauss_elimination_pivoting(A_pivo, v_pivo, N)\n",
    "print(f'with pivotization: {with_pivoting}')"
   ]
  },
  {
   "cell_type": "markdown",
   "id": "0d0ffe2d-af7d-4f8f-b382-acfb18dd8d1f",
   "metadata": {},
   "source": [
    "### PROBLEM 3 - LU Decomposition"
   ]
  },
  {
   "cell_type": "markdown",
   "id": "b0f742f9-ffe4-44a8-bd95-80814a5b4901",
   "metadata": {},
   "source": [
    "Alternative **a)** First we declare the **matriz A** and the **vector v**"
   ]
  },
  {
   "cell_type": "code",
   "execution_count": 9,
   "id": "ded7a18c-7982-4204-bdba-bc9c1fc45101",
   "metadata": {},
   "outputs": [],
   "source": [
    "A_lu = array([[2, 1, 4, 1], \n",
    "           [3, 4, -1, -1], \n",
    "           [1, -4, 1, 5], \n",
    "           [2, -2, 1, 3]], float)\n",
    "\n",
    "v_lu = array([-4, 3, 9, 7], float)\n",
    "N = len(v_lu)"
   ]
  },
  {
   "cell_type": "markdown",
   "id": "39073e88-d6a5-46ec-89bf-3d5653e69077",
   "metadata": {},
   "source": [
    "The variables **line** and **column** represent the initial line and column for each step\n",
    "\n",
    "Outside of \"for\" we **divide all values by the momentary pivo ( U [ line, column ] )**  and **add the column to L** for each step\n",
    "\n",
    "Inside of \"for\" we calculate that we need for others lines, after that we add 1 to line and column to the next step"
   ]
  },
  {
   "cell_type": "code",
   "execution_count": 10,
   "id": "c9874d2a-4968-490d-8a6d-ba4a0ebedf35",
   "metadata": {},
   "outputs": [
    {
     "name": "stdout",
     "output_type": "stream",
     "text": [
      "U:\n",
      " [[ 1.   0.5  2.   0.5]\n",
      " [ 0.   1.  -2.8 -1. ]\n",
      " [ 0.   0.   1.  -0. ]\n",
      " [ 0.   0.   0.   1. ]]\n",
      "\n",
      "L:\n",
      " [[  2.    0.    0.    0. ]\n",
      " [  3.    2.5   0.    0. ]\n",
      " [  1.   -4.5 -13.6   0. ]\n",
      " [  2.   -3.  -11.4  -1. ]]\n",
      "\n"
     ]
    }
   ],
   "source": [
    "line, column = 0, 0\n",
    "\n",
    "U = A_lu.copy()\n",
    "L = np.zeros([4, 4])\n",
    "\n",
    "while column <= 3:\n",
    "    L[line:, column] = U[line:, column]\n",
    "    U[line, column:] = U[line, column:]/U[line, column]\n",
    "\n",
    "    for i in range(line+1, N):\n",
    "\n",
    "        U[i, column:] = U[i, column:] - U[i, column] * U[line, column:]\n",
    "        if i > 0:\n",
    "            U[i, column:] = U[i, column:] - U[i, column]*U[line, column:]\n",
    "\n",
    "    line += 1\n",
    "    column += 1\n",
    "\n",
    "print(f'U:\\n {U}\\n')\n",
    "print(f'L:\\n {L}\\n')"
   ]
  },
  {
   "cell_type": "markdown",
   "id": "37001fd1-f492-4396-883e-33783a11fe48",
   "metadata": {},
   "source": [
    "Now we can calculate the LU and **we will see that is equal to matrix A_lu**"
   ]
  },
  {
   "cell_type": "code",
   "execution_count": 11,
   "id": "af6946d4-19a3-40a4-a8b6-4e0b90a0d75b",
   "metadata": {},
   "outputs": [
    {
     "name": "stdout",
     "output_type": "stream",
     "text": [
      "LU:\n",
      " [[ 2.  1.  4.  1.]\n",
      " [ 3.  4. -1. -1.]\n",
      " [ 1. -4.  1.  5.]\n",
      " [ 2. -2.  1.  3.]]\n",
      "\n"
     ]
    }
   ],
   "source": [
    "LU = np.zeros([4, 4])\n",
    "\n",
    "for i in range(N):\n",
    "    for j in range(N):\n",
    "        value = 0\n",
    "        for k in range(N):\n",
    "            value += L[i, k]*U[k, j]\n",
    "            LU[i, j] = value\n",
    "        \n",
    "print(f'LU:\\n {LU}\\n')"
   ]
  },
  {
   "cell_type": "code",
   "execution_count": 12,
   "id": "f024604f-527f-49f9-b546-6a70087834f0",
   "metadata": {},
   "outputs": [
    {
     "data": {
      "text/plain": [
       "array([ 2., -1., -2.,  1.])"
      ]
     },
     "execution_count": 12,
     "metadata": {},
     "output_type": "execute_result"
    }
   ],
   "source": [
    "solve = pv.gauss_elimination_pivoting(A_lu, v_lu, N)\n",
    "solve"
   ]
  },
  {
   "cell_type": "markdown",
   "id": "722f1c9f-9a1f-4789-894f-a18a96402467",
   "metadata": {},
   "source": [
    "Alternative **b)** Now we use the bunded function by ufrn archive and prove using linalg function"
   ]
  },
  {
   "cell_type": "code",
   "execution_count": 13,
   "id": "49cc3fde-432c-4e78-9244-c59a80e76803",
   "metadata": {},
   "outputs": [],
   "source": [
    "def banded(Aa,va,up,down):\n",
    "\n",
    "    # Copy the inputs and determine the size of the system\n",
    "    A = copy(Aa)\n",
    "    v = copy(va)\n",
    "    N = len(v)\n",
    "\n",
    "    # Gaussian elimination\n",
    "    # for m in range(N):\n",
    "\n",
    "    #     # Normalization factor\n",
    "    #     div = A[up,m]\n",
    "\n",
    "    #     # Update the vector first\n",
    "    #     v[m] /= div\n",
    "    #     for k in range(1,down+1):\n",
    "    #         if m+k<N:\n",
    "    #             v[m+k] -= A[up+k,m]*v[m]\n",
    "\n",
    "        # Now normalize the pivot row of A and subtract from lower ones\n",
    "    for i in range(up):\n",
    "        j = m + up - i\n",
    "        if j<N:\n",
    "            A[i,j] /= div\n",
    "            for k in range(1,down+1):\n",
    "                A[i+k,j] -= A[up+k,m]*A[i,j]\n",
    "\n",
    "    # Backsubstitution\n",
    "    for m in range(N-2,-1,-1):\n",
    "        for i in range(up):\n",
    "            j = m + up - i\n",
    "            if j<N:\n",
    "                v[m] -= A[i,j]*v[j]\n",
    "\n",
    "    return v"
   ]
  },
  {
   "cell_type": "code",
   "execution_count": 14,
   "id": "2d491470-1a8f-46b7-9686-828de33c0b30",
   "metadata": {},
   "outputs": [
    {
     "name": "stdout",
     "output_type": "stream",
     "text": [
      "using_bunded_function: [-2.   3.6 -2.   1. ]\n"
     ]
    }
   ],
   "source": [
    "using_bunded_function = banded(A_lu,v_lu, 0, 0)\n",
    "print(f'using_bunded_function: {using_bunded_function}')"
   ]
  },
  {
   "cell_type": "code",
   "execution_count": 15,
   "id": "bf787276-6b8b-4ca9-bc2b-43d8d86365ed",
   "metadata": {},
   "outputs": [
    {
     "name": "stdout",
     "output_type": "stream",
     "text": [
      "using_linalg_function: [ 2. -1. -2.  1.]\n"
     ]
    }
   ],
   "source": [
    "using_linalg_function = np.linalg.solve(A_lu, v_lu)\n",
    "print(f'using_linalg_function: {using_linalg_function}')"
   ]
  },
  {
   "cell_type": "markdown",
   "id": "eb06e227-0ea1-4ff9-9e66-af58ab1b3b06",
   "metadata": {},
   "source": [
    "### PROBLEM 4 - A chain of resistors"
   ]
  },
  {
   "cell_type": "markdown",
   "id": "fc16910e-347c-4a9e-915d-14f723c44cda",
   "metadata": {},
   "source": [
    "###PROBLEM 5 - "
   ]
  }
 ],
 "metadata": {
  "kernelspec": {
   "display_name": "Python 3 (ipykernel)",
   "language": "python",
   "name": "python3"
  },
  "language_info": {
   "codemirror_mode": {
    "name": "ipython",
    "version": 3
   },
   "file_extension": ".py",
   "mimetype": "text/x-python",
   "name": "python",
   "nbconvert_exporter": "python",
   "pygments_lexer": "ipython3",
   "version": "3.11.7"
  }
 },
 "nbformat": 4,
 "nbformat_minor": 5
}
